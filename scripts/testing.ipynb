{
 "cells": [
  {
   "cell_type": "code",
   "execution_count": 2,
   "metadata": {},
   "outputs": [],
   "source": [
    "import sqlite3\n",
    "import pandas as pd\n",
    "import requests\n",
    "from cron import LegislatorsProcessor"
   ]
  },
  {
   "cell_type": "code",
   "execution_count": 3,
   "metadata": {},
   "outputs": [],
   "source": [
    "existing_members_url = 'https://theunitedstates.io/congress-legislators/legislators-current.json'\n",
    "db_path = 'representatives.db'\n",
    "\n",
    "processor = LegislatorsProcessor(existing_members_url, db_path)\n",
    "processor.run()"
   ]
  },
  {
   "cell_type": "code",
   "execution_count": 5,
   "metadata": {},
   "outputs": [
    {
     "name": "stdout",
     "output_type": "stream",
     "text": [
      "            fullname firstname  lastname       id       party state position  \\\n",
      "0      Pete Ricketts      Pete  Ricketts  R000618  Republican    NE      sen   \n",
      "1      Sherrod Brown   Sherrod     Brown  B000944    Democrat    OH      sen   \n",
      "2    Lizzie Fletcher    Lizzie  Fletcher  F000468    Democrat    TX      rep   \n",
      "3       Lance Gooden     Lance    Gooden  G000589  Republican    TX      rep   \n",
      "4       Dan Crenshaw       Dan  Crenshaw  C001120  Republican    TX      rep   \n",
      "..               ...       ...       ...      ...         ...   ...      ...   \n",
      "533   Chuck Grassley   Charles  Grassley  G000386  Republican    IA      sen   \n",
      "534       Mike Crapo   Michael     Crapo  C000880  Republican    ID      sen   \n",
      "535         Ted Budd       Ted      Budd  B001305  Republican    NC      sen   \n",
      "536         Mike Lee      Mike       Lee  L000577  Republican    UT      sen   \n",
      "537      Marco Rubio     Marco     Rubio  R000595  Republican    FL      sen   \n",
      "\n",
      "     start_term    end_term  \n",
      "0    2023-01-23  2024-11-05  \n",
      "1    2019-01-03  2025-01-03  \n",
      "2    2023-01-03  2025-01-03  \n",
      "3    2023-01-03  2025-01-03  \n",
      "4    2023-01-03  2025-01-03  \n",
      "..          ...         ...  \n",
      "533  2023-01-03  2029-01-03  \n",
      "534  2023-01-03  2029-01-03  \n",
      "535  2023-01-03  2029-01-03  \n",
      "536  2023-01-03  2029-01-03  \n",
      "537  2023-01-03  2029-01-03  \n",
      "\n",
      "[538 rows x 9 columns]\n"
     ]
    }
   ],
   "source": [
    "\n",
    "# Connect to the SQLite database\n",
    "conn = sqlite3.connect('representatives.db')\n",
    "\n",
    "# Query all data from the 'legislators' table\n",
    "query = \"SELECT * FROM legislators\"\n",
    "result = pd.read_sql_query(query, conn)\n",
    "\n",
    "# Display the result\n",
    "print(result)\n",
    "\n",
    "# Close the connection\n",
    "conn.close()"
   ]
  },
  {
   "cell_type": "code",
   "execution_count": null,
   "metadata": {},
   "outputs": [],
   "source": []
  }
 ],
 "metadata": {
  "kernelspec": {
   "display_name": "Python 3 (ipykernel)",
   "language": "python",
   "name": "python3"
  },
  "language_info": {
   "codemirror_mode": {
    "name": "ipython",
    "version": 3
   },
   "file_extension": ".py",
   "mimetype": "text/x-python",
   "name": "python",
   "nbconvert_exporter": "python",
   "pygments_lexer": "ipython3",
   "version": "3.10.12"
  }
 },
 "nbformat": 4,
 "nbformat_minor": 2
}
